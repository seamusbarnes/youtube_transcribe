{
 "cells": [
  {
   "cell_type": "code",
   "execution_count": 138,
   "metadata": {},
   "outputs": [],
   "source": [
    "import os\n",
    "import subprocess\n",
    "import pandas as pd\n",
    "import re\n",
    "\n",
    "import yt_dlp\n",
    "\n",
    "import whisper\n",
    "from deep_translator import GoogleTranslator"
   ]
  },
  {
   "cell_type": "code",
   "execution_count": 141,
   "metadata": {},
   "outputs": [
    {
     "name": "stdout",
     "output_type": "stream",
     "text": [
      "ffmpeg version 7.1\n"
     ]
    }
   ],
   "source": [
    "result = subprocess.run([\"ffmpeg\", \"-version\"], capture_output=True, text=True)\n",
    "print(\" \".join(result.stdout.split()[:3]))"
   ]
  },
  {
   "cell_type": "code",
   "execution_count": 146,
   "metadata": {},
   "outputs": [
    {
     "name": "stdout",
     "output_type": "stream",
     "text": [
      "Downloading: https://www.youtube.com/watch?v=NgdXuqrRaDU\n",
      "Download complete!                                       \n"
     ]
    }
   ],
   "source": [
    "def download_audio(url, filename_base, verbose=False, noprogress=False):\n",
    "    # yt-dlp options to download best audio, then convert to MP3 with a defined bitrate\n",
    "    ydl_options = {\n",
    "        'format': 'bestaudio/best',  # best available audio\n",
    "        'outtmpl': filename_base,\n",
    "        'postprocessors': [\n",
    "            {\n",
    "                'key': 'FFmpegExtractAudio',\n",
    "                'preferredcodec': 'mp3',\n",
    "                'preferredquality': '128',  # 128 kbps\n",
    "            },\n",
    "        ],\n",
    "    }\n",
    "    # Suppress output if needed\n",
    "    if not verbose:\n",
    "        ydl_options['quiet'] = True\n",
    "        ydl_options['no_warnings'] = True  # Optional: Hide warnings\n",
    "    if noprogress:\n",
    "        # ydl_options['noprogress'] = T\n",
    "        ydl_options['progress_hooks'] = []  # Disable progress bar updates\n",
    "\n",
    "    with yt_dlp.YoutubeDL(ydl_options) as ydl:\n",
    "        print(f\"Downloading: {url}\")\n",
    "        ydl.download([url])\n",
    "\n",
    "    print(\"Download complete!\")\n",
    "\n",
    "filename_base = \"my_dutch_audio\"\n",
    "url = \"https://www.youtube.com/watch?v=NgdXuqrRaDU\"\n",
    "download_audio(url=url, filename_base=filename_base, verbose=False, noprogress=True)"
   ]
  },
  {
   "cell_type": "code",
   "execution_count": 143,
   "metadata": {},
   "outputs": [
    {
     "name": "stdout",
     "output_type": "stream",
     "text": [
      "Audio file size: 4.65 MB\n"
     ]
    }
   ],
   "source": [
    "def get_file_size(filename_base):\n",
    "    audio_filename = filename_base + '.mp3'\n",
    "    return  os.path.getsize(audio_filename) / (1024 * 1024)\n",
    "print(f\"Audio file size: {get_file_size(filename_base):.2f} MB\")"
   ]
  },
  {
   "cell_type": "code",
   "execution_count": 145,
   "metadata": {},
   "outputs": [
    {
     "name": "stdout",
     "output_type": "stream",
     "text": [
      "Loaded Whisper model: small\n"
     ]
    }
   ],
   "source": [
    "# Load a model. \n",
    "# \"small\", \"medium\", or \"large\" are typical. \"small\" is faster but less accurate; \"large\" is more accurate but slower.\n",
    "model_size = \"small\" \n",
    "model = whisper.load_model(model_size)\n",
    "\n",
    "print(f\"Loaded Whisper model: {model_size}\")\n"
   ]
  },
  {
   "cell_type": "code",
   "execution_count": 151,
   "metadata": {},
   "outputs": [
    {
     "name": "stdout",
     "output_type": "stream",
     "text": [
      "Dutch transcription (first 100 words):\n",
      " *** Juf Roos en haar kinderen zijn klaar om te beginnen aan een nieuwe schooldag. Waar zullen ze het vandaag over gaan hebben? Ben jij ook zo nieuwsgierig? Ga dan maar lekker zitten voor een mooi verhaal van Juf Roos. *** Hoi, gijs. Hallo, je vrouw. Het is weer een mooie, nieuwe dag. Het is een hele mooie, speciale dag. Inderdaad. Het is mooi weer, de zon schijnt, het is lekker warm buiten. Het is niet. Wat bedoel je dan? Dat het vandaag een hele mooie dag is om iets leuk te doen. Maar we doen altijd leuke dingen in...\n"
     ]
    }
   ],
   "source": [
    "def transcribe_audio(filename_base):\n",
    "    audio_filename = filename_base + '.mpg'\n",
    "    result = model.transcribe(audio_filename, language=\"nl\")  # 'nl' is for Dutch\n",
    "    dutch_text = result[\"text\"]\n",
    "    return dutch_text\n",
    "\n",
    "# dutch_text = transcribe_audio(filename_base)\n",
    "print(\n",
    "    \"Dutch transcription (first 100 words):\\n\",\n",
    "     \" \".join(dutch_text.split()[:100])+\"...\"\n",
    ")"
   ]
  },
  {
   "cell_type": "code",
   "execution_count": 152,
   "metadata": {},
   "outputs": [
    {
     "name": "stdout",
     "output_type": "stream",
     "text": [
      "English translation (first 100 words):\n",
      " *** Miss Roos and her children are ready to start a new school day. What will they be talking about today? Are you so curious? Then sit comfortably for a nice story by Miss Roos. *** Hi, Gijs. Hello, your wife. It is a nice new day. It is a very nice, special day. Indeed. The weather is nice, the sun is shining, it is nice and warm outside. It's not. What do you mean then? That today is a very nice day to do something fun. But we always do fun things in my mill. I mean today it...\n"
     ]
    }
   ],
   "source": [
    "def translate(dutch_text):\n",
    "    translator = GoogleTranslator(source=\"nl\", target=\"en\")\n",
    "    return translator.translate(dutch_text)\n",
    "\n",
    "english_text = translate(dutch_text)\n",
    "print(\n",
    "    \"English translation (first 100 words):\\n\",\n",
    "     \" \".join(english_text.split()[:100])+\"...\"\n",
    ")"
   ]
  },
  {
   "cell_type": "code",
   "execution_count": 83,
   "metadata": {},
   "outputs": [],
   "source": [
    "def test(dutch_text=None, english_text=None):\n",
    "    if not dutch_text or not english_text:\n",
    "        # Example Dutch and English text (replace these with your actual transcriptions)\n",
    "        dutch_text = \"\"\"Dit is een voorbeeldzin in het Nederlands. Ik ben bezig met het testen van Whisper! De resultaten lijken behoorlijk accuraat te zijn?\"\"\"\n",
    "\n",
    "        english_text = \"\"\"This is an example sentence in Dutch. I am testing Whisper! The results seem to be quite accurate?\"\"\"\n",
    "\n",
    "    # Regular expression to match sentence-ending punctuation and keep it\n",
    "    pattern = r'([.!?]+)'\n",
    "\n",
    "    def split_and_recombine(text):\n",
    "        \"\"\"Splits the text into sentences while keeping punctuation.\"\"\"\n",
    "        split_text = re.split(pattern, text)\n",
    "        sentences = [\"\".join(split_text[i:i+2]).strip() for i in range(0, len(split_text)-1, 2)]\n",
    "        return sentences\n",
    "\n",
    "    # Apply sentence splitting to both Dutch and English text\n",
    "    dutch_sentences = split_and_recombine(dutch_text)\n",
    "    english_sentences = split_and_recombine(english_text)\n",
    "\n",
    "    # Ensure both lists have the same length (fill with empty strings if needed)\n",
    "    max_len = max(len(dutch_sentences), len(english_sentences))\n",
    "    dutch_sentences += [\"\"] * (max_len - len(dutch_sentences))\n",
    "    english_sentences += [\"\"] * (max_len - len(english_sentences))\n",
    "\n",
    "    # Create DataFrame\n",
    "    df = pd.DataFrame({\"Dutch (Original)\": dutch_sentences, \"English (Translation)\": english_sentences})\n",
    "\n",
    "    return df\n",
    "\n",
    "# Run function and display DataFrame\n",
    "df = test(dutch_text=dutch_text, english_text=english_text)\n"
   ]
  },
  {
   "cell_type": "code",
   "execution_count": 87,
   "metadata": {},
   "outputs": [
    {
     "name": "stdout",
     "output_type": "stream",
     "text": [
      "*** Juf Roos en haar kinderen zijn klaar om te beginnen aan een nieuwe schooldag. | *** Miss Roos and her children are ready to start a new school day.\n",
      "Waar zullen ze het vandaag over gaan hebben? | What will they be talking about today?\n",
      "Ben jij ook zo nieuwsgierig? | Are you so curious?\n",
      "Ga dan maar lekker zitten voor een mooi verhaal van Juf Roos. | Then sit comfortably for a nice story by Miss Roos.\n",
      "*** Hoi, gijs. | *** Hi, Gijs.\n"
     ]
    }
   ],
   "source": [
    "for i in range(min(len(df), 5)):\n",
    "    print(f'{df.iloc[i].iloc[0]} | {df.iloc[i].iloc[1]}')"
   ]
  },
  {
   "cell_type": "code",
   "execution_count": 90,
   "metadata": {},
   "outputs": [
    {
     "data": {
      "text/html": [
       "<div>\n",
       "<style scoped>\n",
       "    .dataframe tbody tr th:only-of-type {\n",
       "        vertical-align: middle;\n",
       "    }\n",
       "\n",
       "    .dataframe tbody tr th {\n",
       "        vertical-align: top;\n",
       "    }\n",
       "\n",
       "    .dataframe thead th {\n",
       "        text-align: right;\n",
       "    }\n",
       "</style>\n",
       "<table border=\"1\" class=\"dataframe\">\n",
       "  <thead>\n",
       "    <tr style=\"text-align: right;\">\n",
       "      <th></th>\n",
       "      <th>Dutch (Original)</th>\n",
       "      <th>English (Translation)</th>\n",
       "    </tr>\n",
       "  </thead>\n",
       "  <tbody>\n",
       "    <tr>\n",
       "      <th>0</th>\n",
       "      <td>*** Juf Roos en haar kinderen zijn klaar om te...</td>\n",
       "      <td>*** Miss Roos and her children are ready to st...</td>\n",
       "    </tr>\n",
       "    <tr>\n",
       "      <th>1</th>\n",
       "      <td>Waar zullen ze het vandaag over gaan hebben?</td>\n",
       "      <td>What will they be talking about today?</td>\n",
       "    </tr>\n",
       "    <tr>\n",
       "      <th>2</th>\n",
       "      <td>Ben jij ook zo nieuwsgierig?</td>\n",
       "      <td>Are you so curious?</td>\n",
       "    </tr>\n",
       "    <tr>\n",
       "      <th>3</th>\n",
       "      <td>Ga dan maar lekker zitten voor een mooi verhaa...</td>\n",
       "      <td>Then sit comfortably for a nice story by Miss ...</td>\n",
       "    </tr>\n",
       "    <tr>\n",
       "      <th>4</th>\n",
       "      <td>*** Hoi, gijs.</td>\n",
       "      <td>*** Hi, Gijs.</td>\n",
       "    </tr>\n",
       "    <tr>\n",
       "      <th>...</th>\n",
       "      <td>...</td>\n",
       "      <td>...</td>\n",
       "    </tr>\n",
       "    <tr>\n",
       "      <th>78</th>\n",
       "      <td>Dat was weer een mooi verhaal van je vroos.</td>\n",
       "      <td>That was another nice story of your voos.</td>\n",
       "    </tr>\n",
       "    <tr>\n",
       "      <th>79</th>\n",
       "      <td>Kijk je jullie de volgende keer weer?</td>\n",
       "      <td>Are you watching you again next time?</td>\n",
       "    </tr>\n",
       "    <tr>\n",
       "      <th>80</th>\n",
       "      <td>Dag dag!</td>\n",
       "      <td>Day day!</td>\n",
       "    </tr>\n",
       "    <tr>\n",
       "      <th>81</th>\n",
       "      <td>Allemaal zwaaien, tot de volgende keer.</td>\n",
       "      <td>All waving, see you next time.</td>\n",
       "    </tr>\n",
       "    <tr>\n",
       "      <th>82</th>\n",
       "      <td>Dag!</td>\n",
       "      <td>Day!</td>\n",
       "    </tr>\n",
       "  </tbody>\n",
       "</table>\n",
       "<p>83 rows × 2 columns</p>\n",
       "</div>"
      ],
      "text/plain": [
       "                                     Dutch (Original)  \\\n",
       "0   *** Juf Roos en haar kinderen zijn klaar om te...   \n",
       "1        Waar zullen ze het vandaag over gaan hebben?   \n",
       "2                        Ben jij ook zo nieuwsgierig?   \n",
       "3   Ga dan maar lekker zitten voor een mooi verhaa...   \n",
       "4                                      *** Hoi, gijs.   \n",
       "..                                                ...   \n",
       "78        Dat was weer een mooi verhaal van je vroos.   \n",
       "79              Kijk je jullie de volgende keer weer?   \n",
       "80                                           Dag dag!   \n",
       "81            Allemaal zwaaien, tot de volgende keer.   \n",
       "82                                               Dag!   \n",
       "\n",
       "                                English (Translation)  \n",
       "0   *** Miss Roos and her children are ready to st...  \n",
       "1              What will they be talking about today?  \n",
       "2                                 Are you so curious?  \n",
       "3   Then sit comfortably for a nice story by Miss ...  \n",
       "4                                       *** Hi, Gijs.  \n",
       "..                                                ...  \n",
       "78          That was another nice story of your voos.  \n",
       "79              Are you watching you again next time?  \n",
       "80                                           Day day!  \n",
       "81                     All waving, see you next time.  \n",
       "82                                               Day!  \n",
       "\n",
       "[83 rows x 2 columns]"
      ]
     },
     "execution_count": 90,
     "metadata": {},
     "output_type": "execute_result"
    }
   ],
   "source": [
    "df.head(len(df))"
   ]
  },
  {
   "cell_type": "code",
   "execution_count": 86,
   "metadata": {},
   "outputs": [
    {
     "data": {
      "text/html": [
       "<div>\n",
       "<style scoped>\n",
       "    .dataframe tbody tr th:only-of-type {\n",
       "        vertical-align: middle;\n",
       "    }\n",
       "\n",
       "    .dataframe tbody tr th {\n",
       "        vertical-align: top;\n",
       "    }\n",
       "\n",
       "    .dataframe thead th {\n",
       "        text-align: right;\n",
       "    }\n",
       "</style>\n",
       "<table border=\"1\" class=\"dataframe\">\n",
       "  <thead>\n",
       "    <tr style=\"text-align: right;\">\n",
       "      <th></th>\n",
       "      <th>Dutch (Original)</th>\n",
       "      <th>English (Translation)</th>\n",
       "    </tr>\n",
       "  </thead>\n",
       "  <tbody>\n",
       "    <tr>\n",
       "      <th>0</th>\n",
       "      <td>*** Juf Roos en haar kinderen zijn klaar om te...</td>\n",
       "      <td>*** Miss Roos and her children are ready to st...</td>\n",
       "    </tr>\n",
       "    <tr>\n",
       "      <th>1</th>\n",
       "      <td>Waar zullen ze het vandaag over gaan hebben?</td>\n",
       "      <td>What will they be talking about today?</td>\n",
       "    </tr>\n",
       "    <tr>\n",
       "      <th>2</th>\n",
       "      <td>Ben jij ook zo nieuwsgierig?</td>\n",
       "      <td>Are you so curious?</td>\n",
       "    </tr>\n",
       "    <tr>\n",
       "      <th>3</th>\n",
       "      <td>Ga dan maar lekker zitten voor een mooi verhaa...</td>\n",
       "      <td>Then sit comfortably for a nice story by Miss ...</td>\n",
       "    </tr>\n",
       "    <tr>\n",
       "      <th>4</th>\n",
       "      <td>*** Hoi, gijs.</td>\n",
       "      <td>*** Hi, Gijs.</td>\n",
       "    </tr>\n",
       "    <tr>\n",
       "      <th>...</th>\n",
       "      <td>...</td>\n",
       "      <td>...</td>\n",
       "    </tr>\n",
       "    <tr>\n",
       "      <th>78</th>\n",
       "      <td>Dat was weer een mooi verhaal van je vroos.</td>\n",
       "      <td>That was another nice story of your voos.</td>\n",
       "    </tr>\n",
       "    <tr>\n",
       "      <th>79</th>\n",
       "      <td>Kijk je jullie de volgende keer weer?</td>\n",
       "      <td>Are you watching you again next time?</td>\n",
       "    </tr>\n",
       "    <tr>\n",
       "      <th>80</th>\n",
       "      <td>Dag dag!</td>\n",
       "      <td>Day day!</td>\n",
       "    </tr>\n",
       "    <tr>\n",
       "      <th>81</th>\n",
       "      <td>Allemaal zwaaien, tot de volgende keer.</td>\n",
       "      <td>All waving, see you next time.</td>\n",
       "    </tr>\n",
       "    <tr>\n",
       "      <th>82</th>\n",
       "      <td>Dag!</td>\n",
       "      <td>Day!</td>\n",
       "    </tr>\n",
       "  </tbody>\n",
       "</table>\n",
       "<p>83 rows × 2 columns</p>\n",
       "</div>"
      ],
      "text/plain": [
       "                                     Dutch (Original)  \\\n",
       "0   *** Juf Roos en haar kinderen zijn klaar om te...   \n",
       "1        Waar zullen ze het vandaag over gaan hebben?   \n",
       "2                        Ben jij ook zo nieuwsgierig?   \n",
       "3   Ga dan maar lekker zitten voor een mooi verhaa...   \n",
       "4                                      *** Hoi, gijs.   \n",
       "..                                                ...   \n",
       "78        Dat was weer een mooi verhaal van je vroos.   \n",
       "79              Kijk je jullie de volgende keer weer?   \n",
       "80                                           Dag dag!   \n",
       "81            Allemaal zwaaien, tot de volgende keer.   \n",
       "82                                               Dag!   \n",
       "\n",
       "                                English (Translation)  \n",
       "0   *** Miss Roos and her children are ready to st...  \n",
       "1              What will they be talking about today?  \n",
       "2                                 Are you so curious?  \n",
       "3   Then sit comfortably for a nice story by Miss ...  \n",
       "4                                       *** Hi, Gijs.  \n",
       "..                                                ...  \n",
       "78          That was another nice story of your voos.  \n",
       "79              Are you watching you again next time?  \n",
       "80                                           Day day!  \n",
       "81                     All waving, see you next time.  \n",
       "82                                               Day!  \n",
       "\n",
       "[83 rows x 2 columns]"
      ]
     },
     "metadata": {},
     "output_type": "display_data"
    }
   ],
   "source": [
    "from IPython.display import display\n",
    "display(df)\n"
   ]
  },
  {
   "cell_type": "code",
   "execution_count": null,
   "metadata": {},
   "outputs": [],
   "source": []
  }
 ],
 "metadata": {
  "kernelspec": {
   "display_name": "Python 3 (ipykernel)",
   "language": "python",
   "name": "python3"
  },
  "language_info": {
   "codemirror_mode": {
    "name": "ipython",
    "version": 3
   },
   "file_extension": ".py",
   "mimetype": "text/x-python",
   "name": "python",
   "nbconvert_exporter": "python",
   "pygments_lexer": "ipython3",
   "version": "3.12.8"
  }
 },
 "nbformat": 4,
 "nbformat_minor": 2
}
